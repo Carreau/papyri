{
 "cells": [
  {
   "cell_type": "markdown",
   "id": "6206da10-8820-4c0c-a8a0-fb71eec97fab",
   "metadata": {},
   "source": [
    "# Papyri Demo"
   ]
  },
  {
   "cell_type": "markdown",
   "id": "59f6e1c6-19dd-4b06-9cc1-e8ae18e5c3b9",
   "metadata": {},
   "source": [
    "welcome to the papyri demo. this is supposed to show how papyri should look like once finished. \n",
    "\n",
    "The golad of papyri is to provide **rich**, **coherent** and **well integrated** documentation without having to leave Jupyter (or any other IDE that can leverage the papyri framework). \n",
    "\n",
    "## The problem\n",
    "\n",
    "Let's compare the documentation from within Jupyter from the documentation online:"
   ]
  },
  {
   "cell_type": "markdown",
   "id": "2d7417c5-5fb7-4cc8-83b2-46f4ffe58e59",
   "metadata": {},
   "source": [
    "```python\n",
    "import scipy.signal\n",
    "scipy.signal.filter_design.bessel?\n",
    "```\n",
    "\n",
    "```\n",
    "Signature:\n",
    "scipy.signal.filter_design.bessel(\n",
    "    N,\n",
    "    Wn,\n",
    "    btype='low',\n",
    "    analog=False,\n",
    "    output='ba',\n",
    "    norm='phase',\n",
    "    fs=None,\n",
    ")\n",
    "Docstring:\n",
    "Bessel/Thomson digital and analog filter design.\n",
    "\n",
    "Design an Nth-order digital or analog Bessel filter and return the\n",
    "filter coefficients.\n",
    "\n",
    "Parameters\n",
    "----------\n",
    "N : int\n",
    "    The order of the filter.\n",
    "    ...\n",
    "```\n"
   ]
  },
  {
   "cell_type": "markdown",
   "id": "2973d35c-5d0d-4f73-91f0-8e2e66ab7a5c",
   "metadata": {},
   "source": [
    "You can head online to see the documention on scipy website:\n",
    "[https://docs.scipy.org/doc/scipy/reference/generated/scipy.signal.bessel.html](https://docs.scipy.org/doc/scipy/reference/generated/scipy.signal.bessel.html)"
   ]
  },
  {
   "cell_type": "markdown",
   "id": "a5a7a8b8-58c3-49c6-9ecb-de948b44dded",
   "metadata": {},
   "source": [
    "## Comparison\n",
    "\n",
    "Within Jupyter:\n",
    "  - It's easy to access the documention\n",
    "     -  documention is correct for current version\n",
    "     - "
   ]
  },
  {
   "cell_type": "markdown",
   "id": "5affb41b-8f9d-43e6-a333-b0e9ed4315bf",
   "metadata": {},
   "source": [
    "Current Jupyter help:"
   ]
  },
  {
   "cell_type": "code",
   "execution_count": 1,
   "id": "62d5cf44-a382-456e-819a-f8cff545504d",
   "metadata": {
    "tags": []
   },
   "outputs": [
    {
     "data": {
      "text/plain": [
       "\u001b[0;31mSignature:\u001b[0m\n",
       "\u001b[0mscipy\u001b[0m\u001b[0;34m.\u001b[0m\u001b[0msignal\u001b[0m\u001b[0;34m.\u001b[0m\u001b[0mfilter_design\u001b[0m\u001b[0;34m.\u001b[0m\u001b[0mbessel\u001b[0m\u001b[0;34m(\u001b[0m\u001b[0;34m\u001b[0m\n",
       "\u001b[0;34m\u001b[0m    \u001b[0mN\u001b[0m\u001b[0;34m,\u001b[0m\u001b[0;34m\u001b[0m\n",
       "\u001b[0;34m\u001b[0m    \u001b[0mWn\u001b[0m\u001b[0;34m,\u001b[0m\u001b[0;34m\u001b[0m\n",
       "\u001b[0;34m\u001b[0m    \u001b[0mbtype\u001b[0m\u001b[0;34m=\u001b[0m\u001b[0;34m'low'\u001b[0m\u001b[0;34m,\u001b[0m\u001b[0;34m\u001b[0m\n",
       "\u001b[0;34m\u001b[0m    \u001b[0manalog\u001b[0m\u001b[0;34m=\u001b[0m\u001b[0;32mFalse\u001b[0m\u001b[0;34m,\u001b[0m\u001b[0;34m\u001b[0m\n",
       "\u001b[0;34m\u001b[0m    \u001b[0moutput\u001b[0m\u001b[0;34m=\u001b[0m\u001b[0;34m'ba'\u001b[0m\u001b[0;34m,\u001b[0m\u001b[0;34m\u001b[0m\n",
       "\u001b[0;34m\u001b[0m    \u001b[0mnorm\u001b[0m\u001b[0;34m=\u001b[0m\u001b[0;34m'phase'\u001b[0m\u001b[0;34m,\u001b[0m\u001b[0;34m\u001b[0m\n",
       "\u001b[0;34m\u001b[0m    \u001b[0mfs\u001b[0m\u001b[0;34m=\u001b[0m\u001b[0;32mNone\u001b[0m\u001b[0;34m,\u001b[0m\u001b[0;34m\u001b[0m\n",
       "\u001b[0;34m\u001b[0m\u001b[0;34m)\u001b[0m\u001b[0;34m\u001b[0m\u001b[0;34m\u001b[0m\u001b[0m\n",
       "\u001b[0;31mDocstring:\u001b[0m\n",
       "Bessel/Thomson digital and analog filter design.\n",
       "\n",
       "Design an Nth-order digital or analog Bessel filter and return the\n",
       "filter coefficients.\n",
       "\n",
       "Parameters\n",
       "----------\n",
       "N : int\n",
       "    The order of the filter.\n",
       "Wn : array_like\n",
       "    A scalar or length-2 sequence giving the critical frequencies (defined\n",
       "    by the `norm` parameter).\n",
       "    For analog filters, `Wn` is an angular frequency (e.g., rad/s).\n",
       "\n",
       "    For digital filters, `Wn` are in the same units as `fs`.  By default,\n",
       "    `fs` is 2 half-cycles/sample, so these are normalized from 0 to 1,\n",
       "    where 1 is the Nyquist frequency. (`Wn` is thus in\n",
       "    half-cycles / sample.)\n",
       "btype : {'lowpass', 'highpass', 'bandpass', 'bandstop'}, optional\n",
       "    The type of filter.  Default is 'lowpass'.\n",
       "analog : bool, optional\n",
       "    When True, return an analog filter, otherwise a digital filter is\n",
       "    returned. (See Notes.)\n",
       "output : {'ba', 'zpk', 'sos'}, optional\n",
       "    Type of output:  numerator/denominator ('ba'), pole-zero ('zpk'), or\n",
       "    second-order sections ('sos'). Default is 'ba'.\n",
       "norm : {'phase', 'delay', 'mag'}, optional\n",
       "    Critical frequency normalization:\n",
       "\n",
       "    ``phase``\n",
       "        The filter is normalized such that the phase response reaches its\n",
       "        midpoint at angular (e.g. rad/s) frequency `Wn`. This happens for\n",
       "        both low-pass and high-pass filters, so this is the\n",
       "        \"phase-matched\" case.\n",
       "\n",
       "        The magnitude response asymptotes are the same as a Butterworth\n",
       "        filter of the same order with a cutoff of `Wn`.\n",
       "\n",
       "        This is the default, and matches MATLAB's implementation.\n",
       "\n",
       "    ``delay``\n",
       "        The filter is normalized such that the group delay in the passband\n",
       "        is 1/`Wn` (e.g., seconds). This is the \"natural\" type obtained by\n",
       "        solving Bessel polynomials.\n",
       "\n",
       "    ``mag``\n",
       "        The filter is normalized such that the gain magnitude is -3 dB at\n",
       "        angular frequency `Wn`.\n",
       "\n",
       "    .. versionadded:: 0.18.0\n",
       "fs : float, optional\n",
       "    The sampling frequency of the digital system.\n",
       "\n",
       "    .. versionadded:: 1.2.0\n",
       "\n",
       "Returns\n",
       "-------\n",
       "b, a : ndarray, ndarray\n",
       "    Numerator (`b`) and denominator (`a`) polynomials of the IIR filter.\n",
       "    Only returned if ``output='ba'``.\n",
       "z, p, k : ndarray, ndarray, float\n",
       "    Zeros, poles, and system gain of the IIR filter transfer\n",
       "    function.  Only returned if ``output='zpk'``.\n",
       "sos : ndarray\n",
       "    Second-order sections representation of the IIR filter.\n",
       "    Only returned if ``output=='sos'``.\n",
       "\n",
       "Notes\n",
       "-----\n",
       "Also known as a Thomson filter, the analog Bessel filter has maximally\n",
       "flat group delay and maximally linear phase response, with very little\n",
       "ringing in the step response. [1]_\n",
       "\n",
       "The Bessel is inherently an analog filter. This function generates digital\n",
       "Bessel filters using the bilinear transform, which does not preserve the\n",
       "phase response of the analog filter. As such, it is only approximately\n",
       "correct at frequencies below about fs/4. To get maximally-flat group\n",
       "delay at higher frequencies, the analog Bessel filter must be transformed\n",
       "using phase-preserving techniques.\n",
       "\n",
       "See `besselap` for implementation details and references.\n",
       "\n",
       "The ``'sos'`` output parameter was added in 0.16.0.\n",
       "\n",
       "Examples\n",
       "--------\n",
       "Plot the phase-normalized frequency response, showing the relationship\n",
       "to the Butterworth's cutoff frequency (green):\n",
       "\n",
       ">>> from scipy import signal\n",
       ">>> import matplotlib.pyplot as plt\n",
       "\n",
       ">>> b, a = signal.butter(4, 100, 'low', analog=True)\n",
       ">>> w, h = signal.freqs(b, a)\n",
       ">>> plt.semilogx(w, 20 * np.log10(np.abs(h)), color='silver', ls='dashed')\n",
       ">>> b, a = signal.bessel(4, 100, 'low', analog=True, norm='phase')\n",
       ">>> w, h = signal.freqs(b, a)\n",
       ">>> plt.semilogx(w, 20 * np.log10(np.abs(h)))\n",
       ">>> plt.title('Bessel filter magnitude response (with Butterworth)')\n",
       ">>> plt.xlabel('Frequency [radians / second]')\n",
       ">>> plt.ylabel('Amplitude [dB]')\n",
       ">>> plt.margins(0, 0.1)\n",
       ">>> plt.grid(which='both', axis='both')\n",
       ">>> plt.axvline(100, color='green')  # cutoff frequency\n",
       ">>> plt.show()\n",
       "\n",
       "and the phase midpoint:\n",
       "\n",
       ">>> plt.figure()\n",
       ">>> plt.semilogx(w, np.unwrap(np.angle(h)))\n",
       ">>> plt.axvline(100, color='green')  # cutoff frequency\n",
       ">>> plt.axhline(-np.pi, color='red')  # phase midpoint\n",
       ">>> plt.title('Bessel filter phase response')\n",
       ">>> plt.xlabel('Frequency [radians / second]')\n",
       ">>> plt.ylabel('Phase [radians]')\n",
       ">>> plt.margins(0, 0.1)\n",
       ">>> plt.grid(which='both', axis='both')\n",
       ">>> plt.show()\n",
       "\n",
       "Plot the magnitude-normalized frequency response, showing the -3 dB cutoff:\n",
       "\n",
       ">>> b, a = signal.bessel(3, 10, 'low', analog=True, norm='mag')\n",
       ">>> w, h = signal.freqs(b, a)\n",
       ">>> plt.semilogx(w, 20 * np.log10(np.abs(h)))\n",
       ">>> plt.axhline(-3, color='red')  # -3 dB magnitude\n",
       ">>> plt.axvline(10, color='green')  # cutoff frequency\n",
       ">>> plt.title('Magnitude-normalized Bessel filter frequency response')\n",
       ">>> plt.xlabel('Frequency [radians / second]')\n",
       ">>> plt.ylabel('Amplitude [dB]')\n",
       ">>> plt.margins(0, 0.1)\n",
       ">>> plt.grid(which='both', axis='both')\n",
       ">>> plt.show()\n",
       "\n",
       "Plot the delay-normalized filter, showing the maximally-flat group delay\n",
       "at 0.1 seconds:\n",
       "\n",
       ">>> b, a = signal.bessel(5, 1/0.1, 'low', analog=True, norm='delay')\n",
       ">>> w, h = signal.freqs(b, a)\n",
       ">>> plt.figure()\n",
       ">>> plt.semilogx(w[1:], -np.diff(np.unwrap(np.angle(h)))/np.diff(w))\n",
       ">>> plt.axhline(0.1, color='red')  # 0.1 seconds group delay\n",
       ">>> plt.title('Bessel filter group delay')\n",
       ">>> plt.xlabel('Frequency [radians / second]')\n",
       ">>> plt.ylabel('Group delay [seconds]')\n",
       ">>> plt.margins(0, 0.1)\n",
       ">>> plt.grid(which='both', axis='both')\n",
       ">>> plt.show()\n",
       "\n",
       "References\n",
       "----------\n",
       ".. [1] Thomson, W.E., \"Delay Networks having Maximally Flat Frequency\n",
       "       Characteristics\", Proceedings of the Institution of Electrical\n",
       "       Engineers, Part III, November 1949, Vol. 96, No. 44, pp. 487-490.\n",
       "\u001b[0;31mFile:\u001b[0m      ~/miniconda3-intel/envs/papyri/lib/python3.9/site-packages/scipy/signal/filter_design.py\n",
       "\u001b[0;31mType:\u001b[0m      function\n"
      ]
     },
     "metadata": {},
     "output_type": "display_data"
    }
   ],
   "source": [
    "import scipy.signal\n",
    "scipy.signal.filter_design.bessel?"
   ]
  },
  {
   "cell_type": "code",
   "execution_count": null,
   "id": "17b4c231-fe0f-41c7-af3c-64502bb28bbe",
   "metadata": {},
   "outputs": [],
   "source": []
  },
  {
   "cell_type": "code",
   "execution_count": 2,
   "id": "2a286a17-b870-4ab6-a8fd-4d65deffc66c",
   "metadata": {},
   "outputs": [],
   "source": [
    "import scipy.signal.filter_design"
   ]
  },
  {
   "cell_type": "code",
   "execution_count": 2,
   "id": "faa18e86-97ee-4beb-985d-3bc0e441847e",
   "metadata": {},
   "outputs": [],
   "source": [
    "import papyri.jlab"
   ]
  },
  {
   "cell_type": "code",
   "execution_count": null,
   "id": "d5102d99-b3f0-4682-b393-78d237ad6296",
   "metadata": {},
   "outputs": [],
   "source": []
  },
  {
   "cell_type": "code",
   "execution_count": 3,
   "id": "6ea72d4f-0835-4c71-8ccc-b2e96a2b5f5a",
   "metadata": {
    "collapsed": true,
    "jupyter": {
     "outputs_hidden": true
    },
    "tags": []
   },
   "outputs": [
    {
     "data": {
      "text/html": [
       "\n",
       "        <iframe\n",
       "            width=\"100%\"\n",
       "            height=\"100%\"\n",
       "            src=\"http://127.0.0.1:1234/p/numpy/1.21.3/api/numpy.where\"\n",
       "            frameborder=\"0\"\n",
       "            allowfullscreen\n",
       "            \n",
       "        ></iframe>\n",
       "        "
      ],
      "text/plain": [
       "<IPython.lib.display.IFrame at 0x7fc5c81d37f0>"
      ]
     },
     "execution_count": 3,
     "metadata": {},
     "output_type": "execute_result"
    }
   ],
   "source": [
    "import numpy\n",
    "%papyri numpy.where"
   ]
  },
  {
   "cell_type": "code",
   "execution_count": null,
   "id": "d2a64bec-6a22-49ec-bfdc-20d524994150",
   "metadata": {},
   "outputs": [],
   "source": []
  },
  {
   "cell_type": "code",
   "execution_count": null,
   "id": "3a55de9f-7bcd-4e8d-8c8e-da6f4f4e39bd",
   "metadata": {},
   "outputs": [],
   "source": []
  },
  {
   "cell_type": "code",
   "execution_count": null,
   "id": "9c7400d6-6dfe-4e43-b1ca-c1855adca86c",
   "metadata": {},
   "outputs": [],
   "source": []
  },
  {
   "cell_type": "code",
   "execution_count": null,
   "id": "4c96e16c-4eac-4a26-895b-3ac8eaab9aa0",
   "metadata": {},
   "outputs": [],
   "source": []
  },
  {
   "cell_type": "code",
   "execution_count": null,
   "id": "e225be27-95e8-4e17-9a3b-d7f4a5b5e259",
   "metadata": {},
   "outputs": [],
   "source": []
  },
  {
   "cell_type": "code",
   "execution_count": null,
   "id": "408890a3-e9f7-4ed0-9257-b1a3d761b47e",
   "metadata": {
    "tags": []
   },
   "outputs": [],
   "source": [
    "import scipy.signal\n",
    "import scipy.stats.kde\n",
    "scipy.signal.filter_design.bessel?\n",
    "#%papyri scipy.signal.filter_design.bessel"
   ]
  },
  {
   "cell_type": "code",
   "execution_count": null,
   "id": "f5776604-f8d2-4ce4-bc49-04d36ed04e48",
   "metadata": {},
   "outputs": [],
   "source": []
  },
  {
   "cell_type": "code",
   "execution_count": null,
   "id": "3f009d71-b45b-4758-a83b-9b77867fce99",
   "metadata": {},
   "outputs": [],
   "source": []
  }
 ],
 "metadata": {
  "kernelspec": {
   "display_name": "Python 3 (ipykernel)",
   "language": "python",
   "name": "python3"
  },
  "language_info": {
   "codemirror_mode": {
    "name": "ipython",
    "version": 3
   },
   "file_extension": ".py",
   "mimetype": "text/x-python",
   "name": "python",
   "nbconvert_exporter": "python",
   "pygments_lexer": "ipython3",
   "version": "3.9.0"
  }
 },
 "nbformat": 4,
 "nbformat_minor": 5
}
