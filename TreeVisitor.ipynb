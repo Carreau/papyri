{
 "cells": [
  {
   "cell_type": "code",
   "execution_count": 12,
   "id": "robust-zimbabwe",
   "metadata": {},
   "outputs": [],
   "source": [
    "from papyri.ts import parse, parser"
   ]
  },
  {
   "cell_type": "code",
   "execution_count": 7,
   "id": "romance-albert",
   "metadata": {},
   "outputs": [],
   "source": [
    "import numpy as np"
   ]
  },
  {
   "cell_type": "code",
   "execution_count": 14,
   "id": "rough-index",
   "metadata": {},
   "outputs": [],
   "source": [
    "tree = parser.parse(np.__doc__.encode())"
   ]
  },
  {
   "cell_type": "code",
   "execution_count": 98,
   "id": "harmful-equilibrium",
   "metadata": {
    "scrolled": false
   },
   "outputs": [],
   "source": [
    "from collections import defaultdict\n",
    "\n",
    "\n",
    "class Visitor:\n",
    "    def __init__(self):\n",
    "        self.map = {}\n",
    "\n",
    "    def visit(self, node):\n",
    "        if node.type not in self.map:\n",
    "            self.map[node.type] = set()\n",
    "        for c in node.children:\n",
    "            self.map[node.type].add(c.type)\n",
    "            self.visit(c)\n",
    "        return self\n",
    "\n",
    "\n",
    "v = Visitor().visit(tree.root_node)"
   ]
  },
  {
   "cell_type": "code",
   "execution_count": 100,
   "id": "wanted-letter",
   "metadata": {
    "scrolled": false
   },
   "outputs": [
    {
     "data": {
      "text/plain": [
       "{'adornment': 0,\n",
       " '::': 0,\n",
       " 'bullet': 0,\n",
       " 'interpreted_text': 0,\n",
       " 'reference': 0,\n",
       " 'text': 0,\n",
       " 'literal': 0,\n",
       " 'title': 1,\n",
       " 'term': 1,\n",
       " 'literal_block': 1,\n",
       " 'section': 2,\n",
       " 'paragraph': 2,\n",
       " 'body': 3,\n",
       " 'list_item': 4,\n",
       " 'enumerated_list': 5,\n",
       " 'definition_list': 5,\n",
       " 'definition': 6,\n",
       " 'document': 6}"
      ]
     },
     "execution_count": 100,
     "metadata": {},
     "output_type": "execute_result"
    }
   ],
   "source": [
    "def number(graph):\n",
    "    items = dict()\n",
    "    _g = {k: [*v] for k, v in graph.items()}\n",
    "    _g[\"interpreted_text\"].remove(\"interpreted_text\")\n",
    "    _g[\"list_item\"].remove(\"definition\")\n",
    "    for i in range(len(_g)):\n",
    "        leaves = {k for k, v in _g.items() if not v}\n",
    "        for l in leaves:\n",
    "            del _g[l]\n",
    "        for k in leaves:\n",
    "            items[k] = i\n",
    "            for x, y in _g.items():\n",
    "                if k in y:\n",
    "                    y.remove(k)\n",
    "\n",
    "    return items\n",
    "\n",
    "\n",
    "number(v.map)"
   ]
  },
  {
   "cell_type": "code",
   "execution_count": 68,
   "id": "postal-hobby",
   "metadata": {},
   "outputs": [
    {
     "data": {
      "image/png": "[encoded data removed]",
      "text/plain": [
       "<Figure size 432x288 with 1 Axes>"
      ]
     },
     "metadata": {},
     "output_type": "display_data"
    }
   ],
   "source": [
    "import networkx as nx\n",
    "\n",
    "G = nx.DiGraph()\n",
    "skip = {\n",
    "    \"adornment\",\n",
    "    \"::\",\n",
    "    \"reference\",\n",
    "    \"bullet\",\n",
    "    \"literal\",\n",
    "    \"interpreted_text\",\n",
    "    \"text\",\n",
    "    \"term\",\n",
    "    \"title\",\n",
    "    \"section\",\n",
    "}\n",
    "G.add_nodes_from(set(v.map.keys()) - skip)\n",
    "for parent, children in v.map.items():\n",
    "    for child in children:\n",
    "        if child in skip:\n",
    "            continue\n",
    "        G.add_edge(parent, child)\n",
    "pos = nx.spring_layout(\n",
    "    G,\n",
    "    iterations=2000,\n",
    ")\n",
    "nx.draw(G, pos, with_labels=True)"
   ]
  },
  {
   "cell_type": "code",
   "execution_count": 46,
   "id": "massive-party",
   "metadata": {},
   "outputs": [
    {
     "name": "stdout",
     "output_type": "stream",
     "text": [
      "Collecting package metadata (current_repodata.json): ...working... done\n",
      "Solving environment: ...working... ^C\n",
      "failed with initial frozen solve. Retrying with flexible solve.\n",
      "\n",
      "CondaError: KeyboardInterrupt\n",
      "\n"
     ]
    }
   ],
   "source": [
    "!conda install graphviz"
   ]
  },
  {
   "cell_type": "code",
   "execution_count": null,
   "id": "cross-dancing",
   "metadata": {},
   "outputs": [],
   "source": []
  }
 ],
 "metadata": {
  "kernelspec": {
   "display_name": "Python 3 (ipykernel)",
   "language": "python",
   "name": "python3"
  },
  "language_info": {
   "codemirror_mode": {
    "name": "ipython",
    "version": 3
   },
   "file_extension": ".py",
   "mimetype": "text/x-python",
   "name": "python",
   "nbconvert_exporter": "python",
   "pygments_lexer": "ipython3",
   "version": "3.8.5"
  }
 },
 "nbformat": 4,
 "nbformat_minor": 5
}
